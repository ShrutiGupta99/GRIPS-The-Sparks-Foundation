{
 "cells": [
  {
   "cell_type": "markdown",
   "id": "27a5ce62",
   "metadata": {},
   "source": [
    "### **SHRUTI GUPTA**\n",
    "\n",
    "DATA SCIENCE AND BUSINESS ANALYST INTERN\n",
    "\n",
    "GRIPS - THE SPARKS FOUNDATION"
   ]
  },
  {
   "cell_type": "markdown",
   "id": "873a72f5",
   "metadata": {},
   "source": [
    "### **TASK 1 - Prediction using Supervised ML**\n",
    "\n",
    "Predict the percentage of a student based on the number of study hours"
   ]
  },
  {
   "cell_type": "markdown",
   "id": "838a6d4e",
   "metadata": {},
   "source": [
    "### **Importing libraries**"
   ]
  },
  {
   "cell_type": "code",
   "execution_count": 1,
   "id": "e4bd6fe3",
   "metadata": {},
   "outputs": [],
   "source": [
    "import pandas as pd\n",
    "import numpy as np  \n",
    "import matplotlib.pyplot as plt \n",
    "import seaborn as sns\n",
    "%matplotlib inline"
   ]
  },
  {
   "cell_type": "markdown",
   "id": "ce80d0ae",
   "metadata": {},
   "source": [
    "### **Importing data**\n",
    "\n",
    "To import the relevant data into the neighborhood, the pandas library and the link provided in the tasklist were utilized. The read_csv() method of the pandas library was used to access the data at the url and store it in a dataframe called data."
   ]
  },
  {
   "cell_type": "code",
   "execution_count": 2,
   "id": "6e27187e",
   "metadata": {},
   "outputs": [
    {
     "name": "stdout",
     "output_type": "stream",
     "text": [
      "Data imported successfully\n"
     ]
    },
    {
     "data": {
      "text/html": [
       "<div>\n",
       "<style scoped>\n",
       "    .dataframe tbody tr th:only-of-type {\n",
       "        vertical-align: middle;\n",
       "    }\n",
       "\n",
       "    .dataframe tbody tr th {\n",
       "        vertical-align: top;\n",
       "    }\n",
       "\n",
       "    .dataframe thead th {\n",
       "        text-align: right;\n",
       "    }\n",
       "</style>\n",
       "<table border=\"1\" class=\"dataframe\">\n",
       "  <thead>\n",
       "    <tr style=\"text-align: right;\">\n",
       "      <th></th>\n",
       "      <th>Hours</th>\n",
       "      <th>Scores</th>\n",
       "    </tr>\n",
       "  </thead>\n",
       "  <tbody>\n",
       "    <tr>\n",
       "      <th>0</th>\n",
       "      <td>2.5</td>\n",
       "      <td>21</td>\n",
       "    </tr>\n",
       "    <tr>\n",
       "      <th>1</th>\n",
       "      <td>5.1</td>\n",
       "      <td>47</td>\n",
       "    </tr>\n",
       "    <tr>\n",
       "      <th>2</th>\n",
       "      <td>3.2</td>\n",
       "      <td>27</td>\n",
       "    </tr>\n",
       "    <tr>\n",
       "      <th>3</th>\n",
       "      <td>8.5</td>\n",
       "      <td>75</td>\n",
       "    </tr>\n",
       "    <tr>\n",
       "      <th>4</th>\n",
       "      <td>3.5</td>\n",
       "      <td>30</td>\n",
       "    </tr>\n",
       "    <tr>\n",
       "      <th>5</th>\n",
       "      <td>1.5</td>\n",
       "      <td>20</td>\n",
       "    </tr>\n",
       "    <tr>\n",
       "      <th>6</th>\n",
       "      <td>9.2</td>\n",
       "      <td>88</td>\n",
       "    </tr>\n",
       "    <tr>\n",
       "      <th>7</th>\n",
       "      <td>5.5</td>\n",
       "      <td>60</td>\n",
       "    </tr>\n",
       "    <tr>\n",
       "      <th>8</th>\n",
       "      <td>8.3</td>\n",
       "      <td>81</td>\n",
       "    </tr>\n",
       "    <tr>\n",
       "      <th>9</th>\n",
       "      <td>2.7</td>\n",
       "      <td>25</td>\n",
       "    </tr>\n",
       "    <tr>\n",
       "      <th>10</th>\n",
       "      <td>7.7</td>\n",
       "      <td>85</td>\n",
       "    </tr>\n",
       "    <tr>\n",
       "      <th>11</th>\n",
       "      <td>5.9</td>\n",
       "      <td>62</td>\n",
       "    </tr>\n",
       "    <tr>\n",
       "      <th>12</th>\n",
       "      <td>4.5</td>\n",
       "      <td>41</td>\n",
       "    </tr>\n",
       "    <tr>\n",
       "      <th>13</th>\n",
       "      <td>3.3</td>\n",
       "      <td>42</td>\n",
       "    </tr>\n",
       "    <tr>\n",
       "      <th>14</th>\n",
       "      <td>1.1</td>\n",
       "      <td>17</td>\n",
       "    </tr>\n",
       "  </tbody>\n",
       "</table>\n",
       "</div>"
      ],
      "text/plain": [
       "    Hours  Scores\n",
       "0     2.5      21\n",
       "1     5.1      47\n",
       "2     3.2      27\n",
       "3     8.5      75\n",
       "4     3.5      30\n",
       "5     1.5      20\n",
       "6     9.2      88\n",
       "7     5.5      60\n",
       "8     8.3      81\n",
       "9     2.7      25\n",
       "10    7.7      85\n",
       "11    5.9      62\n",
       "12    4.5      41\n",
       "13    3.3      42\n",
       "14    1.1      17"
      ]
     },
     "execution_count": 2,
     "metadata": {},
     "output_type": "execute_result"
    }
   ],
   "source": [
    "url = \"http://bit.ly/w-data\"\n",
    "data = pd.read_csv(url)\n",
    "print(\"Data imported successfully\")\n",
    "\n",
    "data.head(15)"
   ]
  },
  {
   "cell_type": "markdown",
   "id": "588f77e7",
   "metadata": {},
   "source": [
    "### **Preliminary data visualization**\n",
    "Here, the python libraries matplotlib and seaborn have been used to perform introductory data visulaization that helps us to observe trends in the data and find the best regression model to be utilized."
   ]
  },
  {
   "cell_type": "code",
   "execution_count": 3,
   "id": "072b317b",
   "metadata": {},
   "outputs": [
    {
     "data": {
      "image/png": "[encoded data removed]",
      "text/plain": [
       "<Figure size 432x288 with 1 Axes>"
      ]
     },
     "metadata": {
      "needs_background": "light"
     },
     "output_type": "display_data"
    }
   ],
   "source": [
    "plot=sns.scatterplot(x='Hours',y='Scores',color='Green',data=data)\n",
    "plt.title(\"A plot of the Number of hours studied VS the score of the student\")\n",
    "plt.show(plot)"
   ]
  },
  {
   "cell_type": "markdown",
   "id": "407bbfa2",
   "metadata": {},
   "source": [
    "From the above plot it can be seen that their is a linear relationship between the two variables. This statement can be further reaffirmed by using the regplot() function of the seaborn library which fits a regression line to the scatter plot also. Thus form the preliminary data analysis it is clear that a linear model should fit the data and provide desired predictions."
   ]
  },
  {
   "cell_type": "code",
   "execution_count": 4,
   "id": "26abf80d",
   "metadata": {},
   "outputs": [
    {
     "data": {
      "image/png": "[encoded data removed]",
      "text/plain": [
       "<Figure size 432x288 with 1 Axes>"
      ]
     },
     "metadata": {
      "needs_background": "light"
     },
     "output_type": "display_data"
    }
   ],
   "source": [
    "plot=sns.regplot(x='Hours',y='Scores',color='red',data=data)\n",
    "plt.title(\"A plot of the Number of hours studied VS the score of the student\")\n",
    "plt.show(plot)"
   ]
  },
  {
   "cell_type": "markdown",
   "id": "aab81e64",
   "metadata": {},
   "source": [
    "### **Training the algorithm**\n",
    "Now we use the dataset created in the preceeding sections to create a linear model and thus use it to make useful predictions. For this purpose we use the skikit learn package's linear model library as illustrated below:"
   ]
  },
  {
   "cell_type": "code",
   "execution_count": 5,
   "id": "192bed1d",
   "metadata": {},
   "outputs": [
    {
     "data": {
      "text/plain": [
       "LinearRegression()"
      ]
     },
     "execution_count": 5,
     "metadata": {},
     "output_type": "execute_result"
    }
   ],
   "source": [
    "from sklearn import linear_model as lm\n",
    "regr=lm.LinearRegression()\n",
    "x1=np.asanyarray(data['Hours'])\n",
    "y1=np.asanyarray(data['Scores'])\n",
    "x1=x1.reshape(-1,1)\n",
    "y1=y1.reshape(-1,1)\n",
    "regr.fit(x1,y1)"
   ]
  },
  {
   "cell_type": "markdown",
   "id": "d3292e6b",
   "metadata": {},
   "source": [
    "The coefficient and the intercept of the model thus created can also be viewed:"
   ]
  },
  {
   "cell_type": "code",
   "execution_count": 6,
   "id": "ce90d698",
   "metadata": {},
   "outputs": [
    {
     "name": "stdout",
     "output_type": "stream",
     "text": [
      "The coefficient of the model is: [[9.77580339]]\n",
      "The intercept of the model equation is: [2.48367341]\n"
     ]
    }
   ],
   "source": [
    "print(\"The coefficient of the model is:\", regr.coef_)\n",
    "print(\"The intercept of the model equation is:\",regr.intercept_)"
   ]
  },
  {
   "cell_type": "markdown",
   "id": "1326e1fe",
   "metadata": {},
   "source": [
    "### **Calculating the Mean square error to find the model efficiency**\n",
    "\n",
    "We now use the skikit learn metrics package to evaluate the model by calculating the mean squared error. As one can infer from the context, the value of this error should be as small as possible for the optimum solution. The value in case of the above developed model was satisifactorily minimum."
   ]
  },
  {
   "cell_type": "code",
   "execution_count": 7,
   "id": "716cbacc",
   "metadata": {},
   "outputs": [
    {
     "name": "stdout",
     "output_type": "stream",
     "text": [
      "The mean squared error of the model is: 1.8175355256292111e-31\n"
     ]
    }
   ],
   "source": [
    "from sklearn.metrics import r2_score\n",
    "y_hat=regr.predict(x1)\n",
    "y_act=y1\n",
    "mse=np.mean(y_hat-y_act)\n",
    "mse=mse*mse\n",
    "print(\"The mean squared error of the model is:\",mse)"
   ]
  },
  {
   "cell_type": "markdown",
   "id": "e8840967",
   "metadata": {},
   "source": [
    "### **Trying our prediction**\n",
    "\n",
    "**What will be predicted score if a student studies for 9.25 hrs/ day?**\n"
   ]
  },
  {
   "cell_type": "code",
   "execution_count": 8,
   "id": "1b989134",
   "metadata": {},
   "outputs": [
    {
     "name": "stdout",
     "output_type": "stream",
     "text": [
      "Enter the number of hours: 9.25\n"
     ]
    }
   ],
   "source": [
    "hours = input (\"Enter the number of hours: \")"
   ]
  },
  {
   "cell_type": "code",
   "execution_count": 9,
   "id": "f8c5b383",
   "metadata": {},
   "outputs": [
    {
     "name": "stdout",
     "output_type": "stream",
     "text": [
      "Number of Hours: 9.25\n",
      "Predicted Score: [92.90985477]\n"
     ]
    }
   ],
   "source": [
    "own_pred = regr.predict([[hours]])\n",
    "print(\"Number of Hours: {}\".format(hours))\n",
    "print(\"Predicted Score: {}\".format(own_pred[0]))"
   ]
  }
 ],
 "metadata": {
  "kernelspec": {
   "display_name": "Python 3 (ipykernel)",
   "language": "python",
   "name": "python3"
  },
  "language_info": {
   "codemirror_mode": {
    "name": "ipython",
    "version": 3
   },
   "file_extension": ".py",
   "mimetype": "text/x-python",
   "name": "python",
   "nbconvert_exporter": "python",
   "pygments_lexer": "ipython3",
   "version": "3.9.5"
  }
 },
 "nbformat": 4,
 "nbformat_minor": 5
}
